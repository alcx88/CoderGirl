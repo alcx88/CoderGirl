{
 "cells": [
  {
   "cell_type": "code",
   "execution_count": 1,
   "id": "1a654361",
   "metadata": {},
   "outputs": [],
   "source": [
    "x = 8\n",
    "y = 3.2"
   ]
  },
  {
   "cell_type": "code",
   "execution_count": 2,
   "id": "19e7bd03",
   "metadata": {},
   "outputs": [
    {
     "name": "stdout",
     "output_type": "stream",
     "text": [
      "<class 'float'>\n"
     ]
    }
   ],
   "source": [
    "print(type(y))"
   ]
  },
  {
   "cell_type": "code",
   "execution_count": 3,
   "id": "f9eebb4a",
   "metadata": {},
   "outputs": [
    {
     "name": "stdout",
     "output_type": "stream",
     "text": [
      "<class 'int'>\n"
     ]
    }
   ],
   "source": [
    "print(type(x))"
   ]
  },
  {
   "cell_type": "code",
   "execution_count": 4,
   "id": "21e88034",
   "metadata": {},
   "outputs": [],
   "source": [
    "cats = {\"Aslan\":13, \"Basil\":16}"
   ]
  },
  {
   "cell_type": "code",
   "execution_count": 5,
   "id": "39022c74",
   "metadata": {},
   "outputs": [
    {
     "name": "stdout",
     "output_type": "stream",
     "text": [
      "16\n"
     ]
    }
   ],
   "source": [
    "print(cats[\"Basil\"])"
   ]
  },
  {
   "cell_type": "code",
   "execution_count": 6,
   "id": "051b0135",
   "metadata": {},
   "outputs": [],
   "source": [
    "is_true = False"
   ]
  },
  {
   "cell_type": "code",
   "execution_count": 7,
   "id": "78c3a2e2",
   "metadata": {},
   "outputs": [
    {
     "name": "stdout",
     "output_type": "stream",
     "text": [
      "<class 'bool'>\n"
     ]
    }
   ],
   "source": [
    "Hello = False\n",
    "print(type(Hello))"
   ]
  },
  {
   "cell_type": "code",
   "execution_count": 8,
   "id": "26e9ef78",
   "metadata": {},
   "outputs": [
    {
     "name": "stdout",
     "output_type": "stream",
     "text": [
      "{'Velvet Underbrown', 'Squeezebox', 'Love Gun', 'Bohemian Raspberry'}\n"
     ]
    }
   ],
   "source": [
    "beer_set = {\"Bohemian Raspberry\", \"Velvet Underbrown\", \"Squeezebox\"}\n",
    "beer_set.add(\"Love Gun\")\n",
    "\n",
    "print(beer_set)"
   ]
  },
  {
   "cell_type": "code",
   "execution_count": 9,
   "id": "ae61886c",
   "metadata": {},
   "outputs": [
    {
     "data": {
      "text/plain": [
       "'ARMS'"
      ]
     },
     "execution_count": 9,
     "metadata": {},
     "output_type": "execute_result"
    }
   ],
   "source": [
    "teams = [\"BLMS\", \"ARMS\", \"ONB\"]\n",
    "teams[1]"
   ]
  },
  {
   "cell_type": "code",
   "execution_count": 10,
   "id": "1104a456",
   "metadata": {},
   "outputs": [
    {
     "ename": "NameError",
     "evalue": "name 'Beer_tuple' is not defined",
     "output_type": "error",
     "traceback": [
      "\u001b[1;31m---------------------------------------------------------------------------\u001b[0m",
      "\u001b[1;31mNameError\u001b[0m                                 Traceback (most recent call last)",
      "\u001b[1;32mC:\\Users\\ANDREA~1.CAI\\AppData\\Local\\Temp/ipykernel_23260/685957322.py\u001b[0m in \u001b[0;36m<module>\u001b[1;34m\u001b[0m\n\u001b[0;32m      1\u001b[0m \u001b[0mbeer_tuple\u001b[0m \u001b[1;33m=\u001b[0m \u001b[1;33m(\u001b[0m\u001b[1;34m\"Velvet Underbrown\"\u001b[0m\u001b[1;33m,\u001b[0m \u001b[1;34m\"Layla\"\u001b[0m\u001b[1;33m,\u001b[0m \u001b[1;34m\"Love Gun\"\u001b[0m\u001b[1;33m)\u001b[0m\u001b[1;33m\u001b[0m\u001b[1;33m\u001b[0m\u001b[0m\n\u001b[1;32m----> 2\u001b[1;33m \u001b[0mBeer_tuple\u001b[0m\u001b[1;33m[\u001b[0m\u001b[1;36m1\u001b[0m\u001b[1;33m]\u001b[0m\u001b[1;33m\u001b[0m\u001b[1;33m\u001b[0m\u001b[0m\n\u001b[0m",
      "\u001b[1;31mNameError\u001b[0m: name 'Beer_tuple' is not defined"
     ]
    }
   ],
   "source": [
    "beer_tuple = (\"Velvet Underbrown\", \"Layla\", \"Love Gun\")\n",
    "Beer_tuple[1]"
   ]
  },
  {
   "cell_type": "code",
   "execution_count": 11,
   "id": "462586bd",
   "metadata": {},
   "outputs": [
    {
     "data": {
      "text/plain": [
       "'Layla'"
      ]
     },
     "execution_count": 11,
     "metadata": {},
     "output_type": "execute_result"
    }
   ],
   "source": [
    "beer_tuple[1]"
   ]
  },
  {
   "cell_type": "code",
   "execution_count": 12,
   "id": "7647144a",
   "metadata": {},
   "outputs": [
    {
     "name": "stdout",
     "output_type": "stream",
     "text": [
      "3\n"
     ]
    }
   ],
   "source": [
    "print(len(beer_tuple))"
   ]
  },
  {
   "cell_type": "code",
   "execution_count": null,
   "id": "c8719252",
   "metadata": {},
   "outputs": [],
   "source": []
  }
 ],
 "metadata": {
  "kernelspec": {
   "display_name": "Python 3 (ipykernel)",
   "language": "python",
   "name": "python3"
  },
  "language_info": {
   "codemirror_mode": {
    "name": "ipython",
    "version": 3
   },
   "file_extension": ".py",
   "mimetype": "text/x-python",
   "name": "python",
   "nbconvert_exporter": "python",
   "pygments_lexer": "ipython3",
   "version": "3.8.10"
  }
 },
 "nbformat": 4,
 "nbformat_minor": 5
}
