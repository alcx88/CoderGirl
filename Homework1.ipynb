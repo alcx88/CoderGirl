{
 "cells": [
  {
   "cell_type": "code",
   "execution_count": 1,
   "id": "91f72f26",
   "metadata": {},
   "outputs": [],
   "source": [
    "#How can you get more information about a function or an object from inside a jupyter cell?\n",
    "#dir() and help() can be used to get more information on a function or object.  dir() will list all that's included with a function or object.\n",
    "#help() provides a description of the function or object."
   ]
  },
  {
   "cell_type": "code",
   "execution_count": 2,
   "id": "92b0151d",
   "metadata": {},
   "outputs": [],
   "source": [
    "#How can you determine the data type of an object?\n",
    "#The function type() will return the data type of an object."
   ]
  },
  {
   "cell_type": "code",
   "execution_count": 3,
   "id": "61108cd9",
   "metadata": {},
   "outputs": [
    {
     "name": "stdout",
     "output_type": "stream",
     "text": [
      "bar\n"
     ]
    }
   ],
   "source": [
    "#Assign a variable named foo and give it a value of 'bar'. Oh, and what is assignment?\n",
    "#An assignment takes a value and gives it to a variable.  \n",
    "\n",
    "foo = 'bar'\n",
    "print(foo)"
   ]
  },
  {
   "cell_type": "code",
   "execution_count": 4,
   "id": "c2adca49",
   "metadata": {},
   "outputs": [],
   "source": [
    "#What is a data structure in another language that is not built into python? Does python have a similar data structure that may serve the same purpose?\n",
    "#Python doesn't have a tree data structure but nodes can be used to create a tree data structure in python."
   ]
  },
  {
   "cell_type": "code",
   "execution_count": 10,
   "id": "64c7586d",
   "metadata": {},
   "outputs": [
    {
     "name": "stdout",
     "output_type": "stream",
     "text": [
      "['ham, cheese, lettuce, spinach']\n"
     ]
    }
   ],
   "source": [
    "#You have an assortment of items you will need to keep track of. What would be a good data structure to keep them in? Provide an example.\n",
    "#A list would be a good way of keeping track of these items, depending on the needs.  This will provide the flexibility to move them around if needed.\n",
    "#If the items are not meant to be moved around, I would use a tuple.\n",
    "\n",
    "fridge_items = ['ham, cheese, lettuce, spinach']\n",
    "print(fridge_items)"
   ]
  },
  {
   "cell_type": "code",
   "execution_count": 12,
   "id": "6b8492d0",
   "metadata": {},
   "outputs": [
    {
     "name": "stdout",
     "output_type": "stream",
     "text": [
      "<class 'dict'>\n",
      "{'Barb': '555-1234', 'Jessica': '555-5678', 'George': '555-9874'}\n"
     ]
    }
   ],
   "source": [
    "#You have an assortment of names and telephone numbers. What might be a good data structure to keep them in? Show an example.\n",
    "#A dictionary would be a good way to keep track of this information since each element is a key-value pair.  \n",
    "#This will keep the name and phone number together, but still give the flexibility to move things around\n",
    "\n",
    "andreas_friends = {\"Barb\": '555-1234', \"Jessica\" : '555-5678', \"George\" : '555-9874'}\n",
    "print(type(andreas_friends))\n",
    "print(andreas_friends)\n"
   ]
  },
  {
   "cell_type": "code",
   "execution_count": 18,
   "id": "61e73103",
   "metadata": {},
   "outputs": [
    {
     "name": "stdout",
     "output_type": "stream",
     "text": [
      "[4, 7, 6, 2, 3]\n"
     ]
    }
   ],
   "source": [
    "#You need to create a copy of an important list and alter the copy. Why is the following code a bad idea?\n",
    "#list1 = [1,2,3]  list2 = list1  list2[0] = 9 - This modifies both list and not just the copy.  This will also make list1 = [9,2,3]\n",
    "\n",
    "def Cloning(andreas_list):\n",
    "    gregs_list = []\n",
    "    for item in andreas_list: gregs_list.append(item)\n",
    "    return gregs_list\n",
    "    \n",
    "andreas_list = [4,7,6,2,3]\n",
    "gregs_list = Cloning(andreas_list)\n",
    "print(gregs_list)\n"
   ]
  },
  {
   "cell_type": "code",
   "execution_count": 19,
   "id": "2405186d",
   "metadata": {},
   "outputs": [
    {
     "name": "stdout",
     "output_type": "stream",
     "text": [
      "[]\n",
      "\n",
      "[1, 2, 3]\n",
      "Hello\n"
     ]
    }
   ],
   "source": [
    "#What is truthy and falsey? Provide a list example and a string example.\n",
    "#These are values that evaluate to either true or false. Truthy values return truth if the parameters are true and falsey values return false if the parameters are false.\n",
    "\n",
    "#Empty lists and strings will evaluate to false.\n",
    "\n",
    "fal_list = []\n",
    "fal_string = \"\"\n",
    "\n",
    "tru_list = [1,2,3]\n",
    "tru_string = \"Hello\"\n",
    "\n",
    "print(fal_list)\n",
    "print(fal_string)\n",
    "print(tru_list)\n",
    "print(tru_string)"
   ]
  },
  {
   "cell_type": "code",
   "execution_count": 20,
   "id": "fb91ed16",
   "metadata": {},
   "outputs": [],
   "source": [
    "#What is the difference between a dynamically typed and statically typed language?  Dynamically typed languages type check at runtime, so they can compile even with errors.  Statically typed languages will not run with errors and require that you declare variables before you can use them.  You do not need to declare the data type in a dynamically typed language.\n",
    "#Which one is python?  Dynamically\n",
    "#When is that a good thing?  It allows some flexibility and can save time.\n",
    "#When is that a bad thing?  If you have errors in your script, it may not be as obvious and could create larger issues down the line.  You won't be alerted right away that there are errors and may think everything is fine until later down the road."
   ]
  },
  {
   "cell_type": "code",
   "execution_count": 21,
   "id": "2cdef4bb",
   "metadata": {},
   "outputs": [],
   "source": [
    "#Here is a link to the python built-in functions. Choose 2 and give an example of how to use them.\n",
    "#len() will return the length of an object.  If you need to know how long a list is, you would use this function to return the length.\n",
    "#max() and min() are used to return the maximum value or minimum value from an iterable or argument.  If you were trying to determine who has the highest grade in the class from a list of grades, you would use max to show the highest grade."
   ]
  },
  {
   "cell_type": "code",
   "execution_count": 22,
   "id": "a1583437",
   "metadata": {},
   "outputs": [],
   "source": [
    "#I need to know if an integer is odd or even. What operator might help me do that?\n",
    "#This would be when you would use %.  This returns the remainder after being divided, so you could set up a function with the number % 2 and if the remainder is 0, it's even."
   ]
  },
  {
   "cell_type": "code",
   "execution_count": 23,
   "id": "50c8b023",
   "metadata": {},
   "outputs": [],
   "source": [
    "#What is an operator?\n",
    "#Operators show that computation needs to be done.  For example, the + and - signs are operators that require addition and subtraction."
   ]
  },
  {
   "cell_type": "code",
   "execution_count": 24,
   "id": "8bb22a18",
   "metadata": {},
   "outputs": [],
   "source": [
    "#What is a data type in another language does not exist in python? Does python have a similar data type\n",
    "#Number is not a datatype that is supported in Python.  They use an integer type instead."
   ]
  },
  {
   "cell_type": "code",
   "execution_count": 25,
   "id": "643d05c3",
   "metadata": {},
   "outputs": [],
   "source": [
    "#What is a python expression? And what does it evalute to?\n",
    "#Expressions are representations of value.  They only contain identifiers, literals and operators.  Python evaluates an expression and returns the value.  So the expression would be f(x) and it evaluate what x would be given a certain value."
   ]
  },
  {
   "cell_type": "code",
   "execution_count": 5,
   "id": "595617dd",
   "metadata": {},
   "outputs": [],
   "source": [
    "#Provide an expression that evaluates which variable is greater. (Hint: you can just test them and don't need to say which is greater)\n",
    "\n",
    "\n",
    "def andreas_exp(foo,bar):\n",
    "    if foo>bar:\n",
    "        print(\"foo is greater\")\n",
    "    elif foo<bar:\n",
    "        print(\"bar is greater\")\n",
    "    else:\n",
    "        print(\"foo and bar are equal\")"
   ]
  },
  {
   "cell_type": "code",
   "execution_count": 7,
   "id": "71d52913",
   "metadata": {},
   "outputs": [
    {
     "name": "stdout",
     "output_type": "stream",
     "text": [
      "bar is greater\n"
     ]
    }
   ],
   "source": [
    "foo=23\n",
    "bar=48\n",
    "andreas_exp(foo,bar)"
   ]
  },
  {
   "cell_type": "code",
   "execution_count": 8,
   "id": "8e89de12",
   "metadata": {},
   "outputs": [
    {
     "name": "stdout",
     "output_type": "stream",
     "text": [
      "odd\n",
      "even\n",
      "three\n",
      "even\n",
      "odd\n",
      "even\n",
      "odd\n",
      "even\n",
      "odd\n"
     ]
    }
   ],
   "source": [
    "#Provide an if statement (inside the provided for loop) that prints 'even' if the number is even, 'odd' if the number is odd and 'three' if the number is 3.\n",
    "\n",
    "my_list = [1,2,3,4,5,6,7,8,9]\n",
    "for i in my_list:\n",
    "    if i==3:\n",
    "        print(\"three\")\n",
    "    elif i%2==0:\n",
    "        print(\"even\")\n",
    "    else:\n",
    "        print(\"odd\")\n",
    "    "
   ]
  },
  {
   "cell_type": "code",
   "execution_count": 9,
   "id": "12f9942e",
   "metadata": {},
   "outputs": [],
   "source": [
    "#What is the equal operator? # comment it out And show an example of how it is used.\n",
    "#The equal operator is \"==\" and it is used to evaluate whether two values are the same.  A double equal sign is needed so that a value is not assigned, but rather the expression is evaluated.\n",
    "\n",
    "# There is an example in the previous if statement.  \"if i==3\" evaluates if i and 3 are the same.  This is used often in if statements and boolean statements to evaluate whether something is true or false."
   ]
  },
  {
   "cell_type": "code",
   "execution_count": 10,
   "id": "f6be8642",
   "metadata": {},
   "outputs": [],
   "source": [
    "#What is the less than equal to operator? And show an example of how it is used.\n",
    "#The less than equal to operator is \"<=\" and it is used to determine if one side of the operator is of lesser value or equal to the other side of the operator.\n",
    "\n",
    "# i<=5 would evaluate if i is less than or equal to 5."
   ]
  },
  {
   "cell_type": "code",
   "execution_count": 11,
   "id": "ed031039",
   "metadata": {},
   "outputs": [],
   "source": [
    "#What is the modulo remainder operator? And show an example of how it is used.\n",
    "#The modulo remainder operator is % and it is used to return the remainder left over when division takes place.\n",
    "#An example of the modulo remainder operator is i%2.  The answer to this will return what is left over after i is divided by 2.  This is often used to determine if a number is odd or even."
   ]
  },
  {
   "cell_type": "code",
   "execution_count": 12,
   "id": "e143844d",
   "metadata": {},
   "outputs": [],
   "source": [
    "#What is the floored division operator? And show an example of how it is used.\n",
    "#The floored division operator is \"//\" and it returns the closest integer that is less than or equal to the answer.  \n",
    "#An example of this is the expression 9//4.  When 9 is divided by 4, the answer is 2.25.  Since the data type to return is an integer and not a float, the floored division operator will return 2 since that is the integer less than or equal to the answer."
   ]
  },
  {
   "cell_type": "code",
   "execution_count": 13,
   "id": "28e6b571",
   "metadata": {},
   "outputs": [],
   "source": [
    "#Why is this assigment not a good idea? (Hint: focus on the word hex)\n",
    "#hex = 'some text value'\n",
    "#hex is a built-in Python 3 function already, so it can't be used as a variable.  It takes an integer and returns it's hexadecimal form.  \n",
    "#Side note:  I have a degree in math and didn't know what hexadecimal was!  HAHA!!  Now I know!"
   ]
  },
  {
   "cell_type": "code",
   "execution_count": 17,
   "id": "1870026c",
   "metadata": {},
   "outputs": [
    {
     "name": "stdout",
     "output_type": "stream",
     "text": [
      "('Ferrari', 'Mustang')\n"
     ]
    }
   ],
   "source": [
    "#Why does the following give an error? Show an example of how to fix it.\n",
    "#2cars = ('Ferarri', 'Mustang')\n",
    " #File \"<ipython-input-6-47df514039ea>\", line 1\n",
    "    #2cars = ('Ferarri', 'Mustang')\n",
    "     \n",
    "#SyntaxError: invalid syntax\n",
    "    \n",
    "#This gives an error because 2cars starts with a number and must start with a letter.\n",
    "\n",
    "twocars = ('Ferrari', 'Mustang')\n",
    "print(twocars)"
   ]
  },
  {
   "cell_type": "code",
   "execution_count": 33,
   "id": "8371c4af",
   "metadata": {},
   "outputs": [
    {
     "name": "stdout",
     "output_type": "stream",
     "text": [
      "Hooray!\n"
     ]
    }
   ],
   "source": [
    "#Why does this if statement evaluate to true? You will see this shortcut a lot and it can be confusing as to what is going on.\n",
    "\n",
    "some_list = ['fizz','buzz',1,{'key':'value'}]\n",
    "\n",
    "if some_list:\n",
    "   print('Hooray!')\n",
    "#Because the function is not an empty list and there are no conditions to evaluate, this evaluates to true.  If some_list was an empty list, it would evaluate to false and hooray would not print.\n"
   ]
  },
  {
   "cell_type": "code",
   "execution_count": 12,
   "id": "4bab4234",
   "metadata": {},
   "outputs": [
    {
     "name": "stdout",
     "output_type": "stream",
     "text": [
      "12\n"
     ]
    }
   ],
   "source": [
    "#Write an expression that adds two numbers.\n",
    "x=7\n",
    "y=5\n",
    "put2tog=x+y\n",
    "print(put2tog)\n"
   ]
  },
  {
   "cell_type": "code",
   "execution_count": 15,
   "id": "17b6de74",
   "metadata": {},
   "outputs": [
    {
     "name": "stdout",
     "output_type": "stream",
     "text": [
      "1.4\n"
     ]
    }
   ],
   "source": [
    "#Write an expression that divides two numbers.\n",
    "x=7\n",
    "y=5\n",
    "div2num=x/y\n",
    "print(div2num)"
   ]
  },
  {
   "cell_type": "code",
   "execution_count": 17,
   "id": "661bf9b0",
   "metadata": {},
   "outputs": [
    {
     "name": "stdout",
     "output_type": "stream",
     "text": [
      "8\n"
     ]
    }
   ],
   "source": [
    "#Write an expression that raises one number to the power of 3.\n",
    "x=2\n",
    "cubenum = x**3\n",
    "print(cubenum)"
   ]
  },
  {
   "cell_type": "code",
   "execution_count": 18,
   "id": "e512950a",
   "metadata": {},
   "outputs": [],
   "source": [
    "#You've been asked to do some semi-avanced mathematics and create a report. What module might you import to help make your job easier?\n",
    "#I would import the math module.  This contains many of the standard mathematical functions."
   ]
  },
  {
   "cell_type": "code",
   "execution_count": 22,
   "id": "8afc7ed0",
   "metadata": {},
   "outputs": [
    {
     "data": {
      "text/plain": [
       "str"
      ]
     },
     "execution_count": 22,
     "metadata": {},
     "output_type": "execute_result"
    }
   ],
   "source": [
    "#How can you change my_var form an int to a str?\n",
    "my_var = 42\n",
    "y=str(my_var) #the str() function converts a variable to a string datatype.\n",
    "type(y)"
   ]
  },
  {
   "cell_type": "code",
   "execution_count": 30,
   "id": "2408dea3",
   "metadata": {},
   "outputs": [
    {
     "data": {
      "text/plain": [
       "'lazy'"
      ]
     },
     "execution_count": 30,
     "metadata": {},
     "output_type": "execute_result"
    }
   ],
   "source": [
    "#Slice some_string to only include the words lazy.\n",
    "\n",
    "some_string = \"The quick brown fox jumped over the lazy dog.\"\n",
    "some_string[-9:-5]\n"
   ]
  },
  {
   "cell_type": "code",
   "execution_count": 32,
   "id": "6e82e102",
   "metadata": {},
   "outputs": [
    {
     "name": "stdout",
     "output_type": "stream",
     "text": [
      "['Chiefs', 'Cardinals', 'Battlehawks', 'Lakers', 'Manchester United', 'Couch Surfing']\n"
     ]
    }
   ],
   "source": [
    "#Assign a new variable sport to the 3rd element in the list.\n",
    "\n",
    "#I would prefer not to replace my very favorite team, LET'S GO BLUES!!!  Lol\n",
    "\n",
    "my_favorite_teams= ['Chiefs', 'Cardinals', 'Blues', 'Lakers','Manchester United', 'Couch Surfing']\n",
    "my_favorite_teams[2]=\"Battlehawks\"\n",
    "print(my_favorite_teams)\n",
    "\n"
   ]
  },
  {
   "cell_type": "code",
   "execution_count": null,
   "id": "236ec4bd",
   "metadata": {},
   "outputs": [],
   "source": []
  },
  {
   "cell_type": "code",
   "execution_count": null,
   "id": "0c34c541",
   "metadata": {},
   "outputs": [],
   "source": []
  }
 ],
 "metadata": {
  "kernelspec": {
   "display_name": "Python 3 (ipykernel)",
   "language": "python",
   "name": "python3"
  },
  "language_info": {
   "codemirror_mode": {
    "name": "ipython",
    "version": 3
   },
   "file_extension": ".py",
   "mimetype": "text/x-python",
   "name": "python",
   "nbconvert_exporter": "python",
   "pygments_lexer": "ipython3",
   "version": "3.8.10"
  }
 },
 "nbformat": 4,
 "nbformat_minor": 5
}
